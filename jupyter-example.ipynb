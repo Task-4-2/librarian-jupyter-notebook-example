{
 "cells": [
  {
   "cell_type": "markdown",
   "id": "8247ddb6-c83d-4dca-97d4-5847fb405b15",
   "metadata": {},
   "source": [
    "# Jupyter Example Notebook"
   ]
  },
  {
   "cell_type": "markdown",
   "id": "351486c1-1a81-469c-b5f3-93ef2729bc58",
   "metadata": {},
   "source": [
    "#### An example of how to do a basic visualization for a search query on the Zenodo API"
   ]
  },
  {
   "cell_type": "code",
   "execution_count": null,
   "id": "9428da80-d939-4dc0-a3bf-908c12bfb7b4",
   "metadata": {},
   "outputs": [],
   "source": [
    "# Install dependencies\n",
    "!pip install requests seaborn matplotlib pandas"
   ]
  },
  {
   "cell_type": "code",
   "execution_count": null,
   "id": "099a8c7e-74c3-4add-b5e8-4d4ad8de41f5",
   "metadata": {},
   "outputs": [],
   "source": [
    "import requests\n",
    "import pandas as pd\n",
    "import seaborn as sns\n",
    "import matplotlib.pyplot as plt"
   ]
  },
  {
   "cell_type": "code",
   "execution_count": null,
   "id": "78126cb2-556c-4d6d-bb54-5423e1120df5",
   "metadata": {},
   "outputs": [],
   "source": [
    "# Define the URL of the API\n",
    "url = \"https://zenodo.org/api/records\"\n",
    "\n",
    "# Define the query parameters\n",
    "params = {\n",
    "    'q': 'reproducibility crisis',\n",
    "    'size': 100  # Adjust the size to get more results if needed\n",
    "}\n",
    "\n",
    "# Send a GET request to the API\n",
    "response = requests.get(url, params=params)\n",
    "\n",
    "# Check if the request was successful\n",
    "if response.status_code == 200:\n",
    "    data = response.json()\n",
    "else:\n",
    "    print(\"Failed to retrieve data\")"
   ]
  },
  {
   "cell_type": "code",
   "execution_count": null,
   "id": "ce17f487-1aec-4f1c-ba9f-6919379b5812",
   "metadata": {},
   "outputs": [],
   "source": [
    "# Extract the relevant information from the JSON data\n",
    "records = data['hits']['hits']\n",
    "record_data = []\n",
    "for record in records:\n",
    "    record_data.append({\n",
    "        'title': record['metadata']['title'],\n",
    "        'publication_date': record['metadata']['publication_date']\n",
    "    })\n",
    "\n",
    "# Create a DataFrame from the extracted data\n",
    "df = pd.DataFrame(record_data)\n",
    "\n",
    "# Display the first few rows of the DataFrame\n",
    "df.head()"
   ]
  },
  {
   "cell_type": "code",
   "execution_count": null,
   "id": "07e6f948-4d73-46e3-afef-14c38eb99466",
   "metadata": {},
   "outputs": [],
   "source": [
    "# Group by year and count the number of records for each year\n",
    "df['year'] = pd.to_datetime(df['publication_date'], errors='coerce', format='%Y-%m-%d').dt.year\n",
    "df['year'] = df['year'].fillna(pd.to_datetime(df['publication_date'], errors='coerce', format='%Y-%m').dt.year)\n",
    "df['year'] = df['year'].fillna(pd.to_datetime(df['publication_date'], errors='coerce', format='%Y').dt.year)\n",
    "df['year'] = df['year'].astype('Int64')\n",
    "\n",
    "# Group by year and count the number of records for each year\n",
    "df_yearly = df.groupby('year').size().reset_index(name='count')\n",
    "\n",
    "# Display the prepared data\n",
    "df_yearly.head()"
   ]
  },
  {
   "cell_type": "code",
   "execution_count": null,
   "id": "70959eff-c339-4ed6-a60e-ddd55ef6efd3",
   "metadata": {},
   "outputs": [],
   "source": [
    "# Create a basic bar chart\n",
    "sns.set(style=\"whitegrid\")\n",
    "plt.figure(figsize=(12, 8))\n",
    "sns.barplot(x='year', y='count', data=df_yearly)\n",
    "plt.title('Number of \"Reproducibility Crisis\" Records per Year on Zenodo')\n",
    "plt.xlabel('Year')\n",
    "plt.ylabel('Number of Records')\n",
    "plt.xticks(rotation=45)\n",
    "plt.show()"
   ]
  }
 ],
 "metadata": {
  "kernelspec": {
   "display_name": "Python 3 (ipykernel)",
   "language": "python",
   "name": "python3"
  },
  "language_info": {
   "codemirror_mode": {
    "name": "ipython",
    "version": 3
   },
   "file_extension": ".py",
   "mimetype": "text/x-python",
   "name": "python",
   "nbconvert_exporter": "python",
   "pygments_lexer": "ipython3",
   "version": "3.8.10"
  }
 },
 "nbformat": 4,
 "nbformat_minor": 5
}
